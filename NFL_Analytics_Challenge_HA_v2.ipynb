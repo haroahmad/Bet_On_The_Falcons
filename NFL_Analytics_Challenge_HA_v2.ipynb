{
 "cells": [
  {
   "cell_type": "code",
   "execution_count": null,
   "id": "7fb3bee4",
   "metadata": {},
   "outputs": [],
   "source": [
    "# Basic package\n",
    "import pandas as pd\n",
    "import numpy as np\n",
    "import datetime as dt\n",
    "\n",
    "#Data Visualization\n",
    "import matplotlib.pyplot as plt\n",
    "import seaborn as sns\n",
    "\n",
    "# Save model for future use\n",
    "import pickle\n",
    "\n",
    "#Ignore warnings\n",
    "import warnings\n",
    "warnings.filterwarnings('ignore')\n",
    "\n",
    "%matplotlib inline\n",
    "\n",
    "np.random.seed(42)"
   ]
  },
  {
   "cell_type": "code",
   "execution_count": null,
   "id": "e37de587",
   "metadata": {},
   "outputs": [],
   "source": [
    "# Display all results in a cell, not just the last line\n",
    "from IPython.core.interactiveshell import InteractiveShell\n",
    "InteractiveShell.ast_node_interactivity = \"all\""
   ]
  },
  {
   "cell_type": "code",
   "execution_count": null,
   "id": "84486890",
   "metadata": {},
   "outputs": [],
   "source": [
    "df_1 =pd.read_csv('NFL Analytics Challenge Data Set 1.csv')\n",
    "df_2 =pd.read_csv('NFL Analytics Challenge Data Set 2.csv')\n",
    "df_3 =pd.read_csv('NFL Analytics Challenge Data Set 3.csv')"
   ]
  },
  {
   "cell_type": "code",
   "execution_count": null,
   "id": "e9b2bc7d",
   "metadata": {},
   "outputs": [],
   "source": [
    "# Data cleaning and engineering\n",
    "# Dataset 1\n",
    "df_1['date'] =pd.to_datetime(df_1['date']) # Change to datetime format\n",
    "df_1['away'] =df_1['away'].str.replace('.','').str.strip() # Remove punctuation and whitespace\n",
    "\n",
    "# Convert text to number then split columns with composite number\n",
    "df_1_cols_to_split =['third_downs_away','third_downs_home','fourth_downs_away','fourth_downs_home',\n",
    "                     'comp_att_away','comp_att_home','sacks_away','sacks_home',\n",
    "                     'penalties_away','penalties_home','redzone_away','redzone_home'\n",
    "                    ]\n",
    "\n",
    "dic ={'Jan':'1', 'Feb':'2', 'Mar':'3', 'Apr':'4', 'May':'5', 'Jun':'6',\n",
    "      'Jul':'7', 'Aug':'8', 'Sep':'9', 'Oct':'10', 'Nov':'11', 'Dec':'12'\n",
    "     }\n",
    "\n",
    "for col in df_1_cols_to_split:\n",
    "    df_1[col] =df_1[col].replace(dic, regex=True)\n",
    "    df_1 =df_1.join(df_1[col].str.split('-', expand=True).add_prefix(col))\n",
    "    \n",
    "# Convert newly created columns to correct datatype to remove leading zeros\n",
    "for col in df_1.columns[37:]:\n",
    "    df_1[col] = df_1[col].astype('int64')\n",
    "    \n",
    "#df_1.info() #Validate that all columns have correct data type\n",
    "\n",
    "# Convert two last columns to time in seconds\n",
    "m =df_1['possession_away'].str.len().max()\n",
    "df_1['possession_away'] =df_1['possession_away'].str.rjust(m, '0')\n",
    "df_1['possession_home'] =df_1['possession_home'].str.rjust(m, '0')\n",
    "\n",
    "df_1['possession_away_in_seconds'] =((df_1['possession_away'].str[:2].astype('int64'))*3600 +\n",
    "                                            (df_1['possession_away'].str[3:5].astype('int64'))*60 +\n",
    "                                            (df_1['possession_away'].str[6:].astype('int64')))\n",
    "\n",
    "df_1['possession_home_in_seconds'] =((df_1['possession_home'].str[:2].astype('int64'))*3600 +\n",
    "                                            (df_1['possession_home'].str[3:5].astype('int64'))*60 +\n",
    "                                            (df_1['possession_home'].str[6:].astype('int64')))"
   ]
  },
  {
   "cell_type": "code",
   "execution_count": null,
   "id": "923e822b",
   "metadata": {},
   "outputs": [],
   "source": [
    "# Data cleaning and engineering\n",
    "# Dataset 2\n",
    "df_2['date'] =pd.to_datetime(df_2['date']) # Change to datetime format\n",
    "df_2['away'] =df_2['away'].str.replace('.','').str.strip() # Remove punctuation and whitespace\n",
    "\n",
    "# Convert text to number then split columns with composite number\n",
    "df_2_cols_to_split =['third_downs_away','third_downs_home','fourth_downs_away','fourth_downs_home',\n",
    "                     'comp_att_away','comp_att_home','sacks_away','sacks_home',\n",
    "                     'penalties_away','penalties_home','redzone_away','redzone_home'\n",
    "                    ]\n",
    "\n",
    "for col in df_2_cols_to_split:\n",
    "    df_2[col] =df_2[col].replace(dic, regex=True)\n",
    "    df_2 =df_2.join(df_2[col].str.split('-', expand=True).add_prefix(col))\n",
    "    \n",
    "# Convert newly created columns to correct datatype to remove leading zeros\n",
    "for col in df_2.columns[37:]:\n",
    "    df_2[col] = df_2[col].astype('int64')\n",
    "    \n",
    "#df_2.info() #Validate that all columns have correct data type\n",
    "\n",
    "# Convert two last columns to time in seconds\n",
    "m =df_2['possession_away'].str.len().max()\n",
    "df_2['possession_away'] =df_2['possession_away'].str.rjust(m, '0')\n",
    "df_2['possession_home'] =df_2['possession_home'].str.rjust(m, '0')\n",
    "\n",
    "df_2['possession_away_in_seconds'] =((df_2['possession_away'].str[:2].astype('int64'))*3600 +\n",
    "                                            (df_2['possession_away'].str[3:5].astype('int64'))*60 +\n",
    "                                            (df_2['possession_away'].str[6:].astype('int64')))\n",
    "\n",
    "df_2['possession_home_in_seconds'] =((df_2['possession_home'].str[:2].astype('int64'))*3600 +\n",
    "                                            (df_2['possession_home'].str[3:5].astype('int64'))*60 +\n",
    "                                            (df_2['possession_home'].str[6:].astype('int64')))"
   ]
  },
  {
   "cell_type": "code",
   "execution_count": null,
   "id": "cf0ee6a5",
   "metadata": {},
   "outputs": [],
   "source": [
    "# Data cleaning and engineering\n",
    "# Dataset 3\n",
    "df_3['date'] =pd.to_datetime(df_3['date']) # Change to datetime format\n",
    "df_3['away'] =df_3['away'].str.replace('.','').str.strip() # Remove punctuation and whitespace"
   ]
  },
  {
   "cell_type": "code",
   "execution_count": null,
   "id": "789950e2",
   "metadata": {},
   "outputs": [],
   "source": [
    "# Create final dataframe\n",
    "df = pd.concat([df_1, df_2],ignore_index=True)\n",
    "df =df.merge(df_3, on=['date','away','home'])"
   ]
  },
  {
   "cell_type": "code",
   "execution_count": null,
   "id": "bcfd967f",
   "metadata": {},
   "outputs": [],
   "source": [
    "df.info()\n",
    "df.shape\n",
    "df.head()"
   ]
  },
  {
   "cell_type": "code",
   "execution_count": null,
   "id": "44a524c9",
   "metadata": {},
   "outputs": [],
   "source": [
    "# Create classifier column, if home team win, then 1, if home team lose, then 0\n",
    "df.loc[df['score_away'] < df['score_home'], 'home_win'] = 1 \n",
    "df.loc[df['score_away'] > df['score_home'], 'home_win'] = 0 \n",
    "\n",
    "# Convert to percentage\n",
    "df['comp_att_away_percentage'] =df['comp_att_away0']/df['comp_att_away1']\n",
    "df['comp_att_home_percentage'] =df['comp_att_home0']/df['comp_att_home1']\n",
    "\n",
    "# Drop redzone columns\n",
    "df = df.drop(columns=['redzone_away','redzone_home',\n",
    "                      'redzone_away0', 'redzone_away1',\n",
    "                      'redzone_home0','redzone_home1'])\n",
    "\n",
    "# Create column with SuperBowl winner by year\n",
    "winner_dict ={2002:'Buccaneers',\n",
    "             2003:'Patriots',\n",
    "             2004:'Patriots',\n",
    "             2005:'Steelers',\n",
    "             2006:'Colts',\n",
    "             2007:'Giants',\n",
    "             2008:'Steelers',\n",
    "             2009:'Saints',\n",
    "             2010:'Packers',\n",
    "             2011:'Giants',\n",
    "             2012:'Ravens',\n",
    "             2013:'Seahawks',\n",
    "             2014:'Patriots',\n",
    "             2015:'Broncos',\n",
    "             2016:'Patriots',\n",
    "             2017:'Eagles',\n",
    "             2018:'Patriots',\n",
    "             2019:'Chiefs',\n",
    "             2020:'Buccaneers',\n",
    "             2021:'Rams'\n",
    "             }\n",
    "df['super_bowl_winner'] =df['date'].dt.year.map(winner_dict)\n",
    "\n",
    "# create a dictionary that shows teams in conference/division\n",
    "# AFC vs NFC Conferences\n",
    "# each has North, South, East, and West Divisions\n",
    "conf_divisions = {\n",
    "    'Colts':'AFC South', \n",
    "    'Ravens':'AFC North', \n",
    "    'Seahawks':'NFC West', \n",
    "    'Patriots':'AFC East', \n",
    "    'Packers':'NFC North', \n",
    "    'Giants':'NFC East',\n",
    "    'Steelers':'AFC North', \n",
    "    'Jets':'AFC East', \n",
    "    'Titans':'AFC South', \n",
    "    'Panthers':'NFC South', \n",
    "    'Eagles':'NFC East', \n",
    "    'Chargers':'AFC West',\n",
    "    'Saints':'NFC South', \n",
    "    '49ers':'NFC West', \n",
    "    'Falcons':'NFC South', \n",
    "    'Texans':'AFC South', \n",
    "    'Jaguars':'AFC South', \n",
    "    'Chiefs':'AFC West', \n",
    "    'Vikings':'NFC North',\n",
    "    'Broncos':'AFC West', \n",
    "    'Cowboys':'NFC East', \n",
    "    'Cardinals':'NFC West', \n",
    "    'Bengals':'AFC North', \n",
    "    'Bills':'AFC East', \n",
    "    'Rams':'NFC West', \n",
    "    'Lions':'NFC North',\n",
    "    'Washington':'NFC East', \n",
    "    'Raiders':'AFC West', \n",
    "    'Browns':'AFC North', \n",
    "    'Buccaneers':'NFC South', \n",
    "    'Bears':'NFC North', \n",
    "    'Dolphins':'AFC East'  \n",
    "}\n",
    "df['Conference_Division'] = df['away'].map(conf_divisions)\n",
    "\n",
    "# Create column Super Bowl Year\n",
    "df['super_bowl_year'] =df['date'].dt.year\n",
    "\n",
    "# TO BE DETERMINED how to treat tie record?\n",
    "#df['away_win'].unique()\n",
    "#df[~df['away_win'].isin([0,1])] #11 tie record"
   ]
  },
  {
   "cell_type": "code",
   "execution_count": null,
   "id": "a10644b9",
   "metadata": {},
   "outputs": [],
   "source": [
    "df"
   ]
  },
  {
   "cell_type": "code",
   "execution_count": null,
   "id": "07ec28ec",
   "metadata": {},
   "outputs": [],
   "source": [
    "# export to excel\n",
    "df.to_excel('NFL_Analytics_Challenge_HA_v2.xlsx')"
   ]
  },
  {
   "cell_type": "code",
   "execution_count": null,
   "id": "b54b2bc3",
   "metadata": {},
   "outputs": [],
   "source": [
    "df.dtypes"
   ]
  },
  {
   "cell_type": "code",
   "execution_count": null,
   "id": "10c3450f",
   "metadata": {},
   "outputs": [],
   "source": [
    "# filter for january and february\n",
    "df[df['date'].dt.month.isin([1,2])]"
   ]
  },
  {
   "cell_type": "code",
   "execution_count": null,
   "id": "00fc9dcc",
   "metadata": {},
   "outputs": [],
   "source": [
    "# update year column by subtracting 1 for games in Jan/Feb\n",
    "df.loc[df['date'].dt.month.isin([1,2]), 'super_bowl_year'] = df.loc[df['date'].dt.month.isin([1,2]), 'super_bowl_year'] - 1"
   ]
  },
  {
   "cell_type": "code",
   "execution_count": null,
   "id": "3500418f",
   "metadata": {},
   "outputs": [],
   "source": [
    "# check \n",
    "df[df['date'].dt.month.isin([1,2])]"
   ]
  },
  {
   "cell_type": "code",
   "execution_count": null,
   "id": "f2bfbbf1",
   "metadata": {},
   "outputs": [],
   "source": [
    "# update the super bowl winner for rows changed\n",
    "df['super_bowl_winner'] = df['super_bowl_year'].map(winner_dict)"
   ]
  },
  {
   "cell_type": "code",
   "execution_count": null,
   "id": "302e55de",
   "metadata": {},
   "outputs": [],
   "source": [
    "# check\n",
    "df"
   ]
  },
  {
   "cell_type": "code",
   "execution_count": null,
   "id": "81d158ba",
   "metadata": {},
   "outputs": [],
   "source": [
    "# delete the conference_division column (what value does it provide?)"
   ]
  },
  {
   "cell_type": "code",
   "execution_count": null,
   "id": "6bf03d65",
   "metadata": {},
   "outputs": [],
   "source": [
    "# differentiate between playoffs and regular season???\n",
    "\n",
    "# correct games played to correct super bowl year\n",
    "# all games in February and January belong to previous year\n",
    "# filter games in this range\n",
    "\n",
    "\n",
    "# identify super bowl winner in each season (DONE/UPDATED)"
   ]
  },
  {
   "cell_type": "markdown",
   "id": "716a810d",
   "metadata": {},
   "source": [
    "### TO DO for monday:"
   ]
  },
  {
   "cell_type": "code",
   "execution_count": null,
   "id": "8bd01909",
   "metadata": {},
   "outputs": [],
   "source": [
    "# step 1\n",
    "# aggregate data by year (sum yards, etc.)\n",
    "# groupby\n",
    "# how to group? sum, average\n",
    "\n",
    "# step 2\n",
    "# vertically combine all data to get FULL team season statistics\n",
    "\n",
    "# step 3\n",
    "# for each year, add column indicating 0 did not win SB, 1 won SB\n",
    "\n",
    "\n"
   ]
  },
  {
   "cell_type": "code",
   "execution_count": null,
   "id": "d65499a8",
   "metadata": {},
   "outputs": [],
   "source": [
    "# Only considered matches before 2022\n",
    "df =df[df['date']<'2022-01-01']\n",
    "\n",
    "# To be discussed\n",
    "# Only considered no tie matches\n",
    "df =df[df['home_win'].isin([0,1])]"
   ]
  },
  {
   "cell_type": "code",
   "execution_count": null,
   "id": "2adfae28",
   "metadata": {},
   "outputs": [],
   "source": [
    "X = df.drop(columns=['date', 'away', 'home','third_downs_away', 'third_downs_home',\n",
    "                     'fourth_downs_away', 'fourth_downs_home', 'comp_att_away', 'comp_att_home',\n",
    "                     'sacks_away', 'sacks_home', 'penalties_away', 'penalties_home',\n",
    "                     'redzone_away', 'redzone_home','possession_away','possession_home',\n",
    "                     'away_win'])\n",
    "\n",
    "y = df['home_win']"
   ]
  },
  {
   "cell_type": "code",
   "execution_count": null,
   "id": "e3b7b018",
   "metadata": {},
   "outputs": [],
   "source": []
  }
 ],
 "metadata": {
  "kernelspec": {
   "display_name": "Python 3",
   "language": "python",
   "name": "python3"
  },
  "language_info": {
   "codemirror_mode": {
    "name": "ipython",
    "version": 3
   },
   "file_extension": ".py",
   "mimetype": "text/x-python",
   "name": "python",
   "nbconvert_exporter": "python",
   "pygments_lexer": "ipython3",
   "version": "3.8.8"
  }
 },
 "nbformat": 4,
 "nbformat_minor": 5
}
