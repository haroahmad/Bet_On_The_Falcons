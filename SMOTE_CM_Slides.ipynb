{
 "cells": [
  {
   "cell_type": "markdown",
   "id": "c690614f",
   "metadata": {},
   "source": [
    "# SMOTE: Synthetic Minority Oversampling Technique\n",
    "<br>\n",
    "<br>\n",
    "* Creates synthetic examples of minority class i.e. Super Bowl winners\n",
    "<br>\n",
    "<br>\n",
    "* Uses K Nearest Neighbors to create new examples, then adds 'noise' to randomize\n",
    "<br>\n",
    "<br>\n",
    "* Allows model to 'see' more examples of Super Bowl winners"
   ]
  },
  {
   "attachments": {},
   "cell_type": "markdown",
   "id": "bd09fc39",
   "metadata": {},
   "source": [
    "# Confusion Matrix Overview\n",
    "<br>\n",
    "<br>\n",
    "* Visual representation of actual and predicted values (see below)\n",
    "<br>\n",
    "![confusion_matrix-2.png](attachment:confusion_matrix-2.png)\n",
    "<br>\n",
    "<br>\n",
    "* Terms:  \n",
    "    <ul>\n",
    "    <li> <b>T</b>rue <b>P</b>ositive: Values predicted to be positive and actually positive </li>\n",
    "    <br>\n",
    "    <li> <b>F</b>alse <b>P</b>ositive: Values predicted to be positive but actually negative </li>\n",
    "    <br>\n",
    "    <li> <b>F</b>alse <b>N</b>egative: Values predicted to be negative and actually positive </li>\n",
    "    <br>\n",
    "    <li> <b>T</b>rue <b>N</b>egative: Values predicted to be negative and actually negative </li>\n",
    "    <br>\n",
    "    </ul>\n",
    "\n",
    "    "
   ]
  },
  {
   "cell_type": "markdown",
   "id": "d775e18a",
   "metadata": {},
   "source": [
    "# Common Confusion Matrix Metrics\n",
    "\n",
    "<ul>\n",
    "    <li>Accuracy: (TP + TN) / Total </li>\n",
    "    <br>\n",
    "    <li>True Positive Rate (Sensitivity): TP / (TP + FN) </li> \n",
    "    <br>\n",
    "    <li>Precision: TP / (TP + FP) </li>\n",
    "    <br>\n",
    "    <li>False Positive Rate: FP / (FP + TN) </li>\n",
    "    <br>\n",
    "</ul>"
   ]
  },
  {
   "cell_type": "code",
   "execution_count": null,
   "id": "8cade723",
   "metadata": {},
   "outputs": [],
   "source": []
  }
 ],
 "metadata": {
  "kernelspec": {
   "display_name": "Python 3 (ipykernel)",
   "language": "python",
   "name": "python3"
  },
  "language_info": {
   "codemirror_mode": {
    "name": "ipython",
    "version": 3
   },
   "file_extension": ".py",
   "mimetype": "text/x-python",
   "name": "python",
   "nbconvert_exporter": "python",
   "pygments_lexer": "ipython3",
   "version": "3.9.7"
  }
 },
 "nbformat": 4,
 "nbformat_minor": 5
}
